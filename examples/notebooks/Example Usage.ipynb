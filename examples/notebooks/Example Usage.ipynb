{
 "cells": [
  {
   "cell_type": "markdown",
   "metadata": {
    "pycharm": {
     "name": "#%% md\n"
    }
   },
   "source": [
    "If you don't have a virtual environment setup and want to try things quickly, you might want to uncomment and run:"
   ]
  },
  {
   "cell_type": "code",
   "execution_count": 1,
   "metadata": {
    "pycharm": {
     "is_executing": true,
     "name": "#%%\n"
    },
    "scrolled": true
   },
   "outputs": [],
   "source": [
    "# pip install -e ../.."
   ]
  },
  {
   "cell_type": "markdown",
   "metadata": {
    "pycharm": {
     "name": "#%% md\n"
    }
   },
   "source": [
    "## Generating Environments"
   ]
  },
  {
   "cell_type": "markdown",
   "metadata": {
    "pycharm": {
     "name": "#%% md\n"
    }
   },
   "source": [
    "Print out the mouselab mdp environment registry to see if the environment we're studying is already there:"
   ]
  },
  {
   "cell_type": "code",
   "execution_count": 2,
   "metadata": {
    "pycharm": {
     "name": "#%%\n"
    },
    "scrolled": true
   },
   "outputs": [
    {
     "name": "stdout",
     "output_type": "stream",
     "text": [
      "\n",
      "name:high_increasing\n",
      "branching: 3-1-2\n",
      "inputs: (d, e, p, t, h)\n",
      "\t1, Categorical(vals=[-4 -2  2  4], probs=[0.25 0.25 0.25 0.25])\n",
      "\t2, Categorical(vals=[-8 -4  4  8], probs=[0.25 0.25 0.25 0.25])\n",
      "\t3, Categorical(vals=[-48 -24  24  48], probs=[0.25 0.25 0.25 0.25])\n",
      "++++++++++++++++++++++++++++++++++\n",
      "name:high_decreasing\n",
      "branching: 3-1-2\n",
      "inputs: (d, e, p, t, h)\n",
      "\t1, Categorical(vals=[-48 -24  24  48], probs=[0.25 0.25 0.25 0.25])\n",
      "\t2, Categorical(vals=[-8 -4  4  8], probs=[0.25 0.25 0.25 0.25])\n",
      "\t3, Categorical(vals=[-4 -2  2  4], probs=[0.25 0.25 0.25 0.25])\n",
      "++++++++++++++++++++++++++++++++++\n",
      "name:low_constant\n",
      "branching: 3-1-2\n",
      "inputs: (d, e, p, t, h)\n",
      "\t1, Categorical(vals=[-10  -5   5  10], probs=[0.25 0.25 0.25 0.25])\n",
      "\t2, Categorical(vals=[-10  -5   5  10], probs=[0.25 0.25 0.25 0.25])\n",
      "\t3, Categorical(vals=[-10  -5   5  10], probs=[0.25 0.25 0.25 0.25])\n",
      "++++++++++++++++++++++++++++++++++\n",
      "name:large_increasing\n",
      "branching: 3-1-1-2-3\n",
      "inputs: (d, e, p, t, h)\n",
      "\t1, Norm(0.00, 1.00)\n",
      "\t2, Norm(0.00, 2.00)\n",
      "\t3, Norm(0.00, 4.00)\n",
      "\t4, Norm(0.00, 8.00)\n",
      "\t5, Norm(0.00, 32.00)\n",
      "++++++++++++++++++++++++++++++++++\n",
      "name:constant_high\n",
      "branching: 4-1-2\n",
      "inputs: (d, e, p, t, h)\n",
      "\t0, 0.0\n",
      "\t1, Categorical(vals=[-40. -24.  -8.   8.  24.  40.], probs=[0.05479929 0.15705611 0.2881446  0.2881446  0.15705611 0.05479929])\n",
      "\t2, Categorical(vals=[-40. -24.  -8.   8.  24.  40.], probs=[0.05479929 0.15705611 0.2881446  0.2881446  0.15705611 0.05479929])\n",
      "\t3, Categorical(vals=[-40. -24.  -8.   8.  24.  40.], probs=[0.05479929 0.15705611 0.2881446  0.2881446  0.15705611 0.05479929])\n",
      "++++++++++++++++++++++++++++++++++\n",
      "name:increasing\n",
      "branching: 4-1-2\n",
      "inputs: (d, e, p, t, h)\n",
      "\t0, 0.0\n",
      "\t1, Categorical(vals=[-4.  -2.4 -0.8  0.8  2.4  4. ], probs=[0.05479929 0.15705611 0.2881446  0.2881446  0.15705611 0.05479929])\n",
      "\t2, Categorical(vals=[-8.  -4.8 -1.6  1.6  4.8  8. ], probs=[0.05479929 0.15705611 0.2881446  0.2881446  0.15705611 0.05479929])\n",
      "\t3, Categorical(vals=[-40. -24.  -8.   8.  24.  40.], probs=[0.05479929 0.15705611 0.2881446  0.2881446  0.15705611 0.05479929])\n",
      "++++++++++++++++++++++++++++++++++\n",
      "name:decreasing\n",
      "branching: 4-1-2\n",
      "inputs: (d, e, p, t, h)\n",
      "\t0, 0.0\n",
      "\t1, Categorical(vals=[-40. -24.  -8.   8.  24.  40.], probs=[0.05479929 0.15705611 0.2881446  0.2881446  0.15705611 0.05479929])\n",
      "\t2, Categorical(vals=[-20. -12.  -4.   4.  12.  20.], probs=[0.05479929 0.15705611 0.2881446  0.2881446  0.15705611 0.05479929])\n",
      "\t3, Categorical(vals=[-10.  -6.  -2.   2.   6.  10.], probs=[0.05479929 0.15705611 0.2881446  0.2881446  0.15705611 0.05479929])\n",
      "++++++++++++++++++++++++++++++++++\n",
      "name:constant_low\n",
      "branching: 4-1-2\n",
      "inputs: (d, e, p, t, h)\n",
      "\t0, 0.0\n",
      "\t1, Categorical(vals=[-2.  -1.2 -0.4  0.4  1.2  2. ], probs=[0.05479929 0.15705611 0.2881446  0.2881446  0.15705611 0.05479929])\n",
      "\t2, Categorical(vals=[-2.  -1.2 -0.4  0.4  1.2  2. ], probs=[0.05479929 0.15705611 0.2881446  0.2881446  0.15705611 0.05479929])\n",
      "\t3, Categorical(vals=[-2.  -1.2 -0.4  0.4  1.2  2. ], probs=[0.05479929 0.15705611 0.2881446  0.2881446  0.15705611 0.05479929])\n",
      "++++++++++++++++++++++++++++++++++\n",
      "name:toy_imbalanced\n",
      "branching: 2-1\n",
      "inputs: (n, o, d, e)\n",
      "\t1, Categorical(vals=[-4 -2  2  4], probs=[0.25 0.25 0.25 0.25])\n",
      "\t3, Categorical(vals=[-8 -4  4  8], probs=[0.25 0.25 0.25 0.25])\n",
      "\t2, Categorical(vals=[-8 -4  4  8], probs=[0.25 0.25 0.25 0.25])\n",
      "\t4, Categorical(vals=[-48 -24  24  48], probs=[0.25 0.25 0.25 0.25])\n",
      "++++++++++++++++++++++++++++++++++\n",
      "name:small_test_case\n",
      "branching: 1-2\n",
      "inputs: (d, e, p, t, h)\n",
      "\t1, Categorical(vals=[-500], probs=[1.])\n",
      "\t2, Categorical(vals=[-60  60], probs=[0.5 0.5])\n",
      "++++++++++++++++++++++++++++++++++\n"
     ]
    }
   ],
   "source": [
    "from mouselab.envs.registry import registry\n",
    "\n",
    "print(registry)"
   ]
  },
  {
   "cell_type": "markdown",
   "metadata": {
    "pycharm": {
     "name": "#%% md\n"
    }
   },
   "source": [
    "### No matching experiment setting?\n",
    "\n",
    "If the experiment setting you want to use is not printed out in the registry of the mouselab package, you have two options:\n",
    " \n",
    "1. Add a new experiment setting to the mouselab package registry (use examples from `mouselab/envs/__init__.py`) and submit a pull request.\n",
    "2. Locally define the experiment setting and add it to the registry -- we will show two examples now."
   ]
  },
  {
   "cell_type": "markdown",
   "metadata": {
    "pycharm": {
     "name": "#%% md\n"
    }
   },
   "source": [
    "Say we want to investigate an environment with branching factor 1, 1, 1, 1, 3:\n",
    "```\n",
    "\n",
    "        depth  depth   depth   depth    depth\n",
    "start     1      2       3       4        5\n",
    "                                       ()\n",
    "                                     /\n",
    "                                    /\n",
    "                                   /\n",
    " () ---- () ---- () ----() ----- () ---- ()\n",
    "                                    \\\n",
    "                                     \\\n",
    "                                      \\\n",
    "                                       ()\n",
    " ```\n",
    " \n",
    "You have two reward settings you're interested in:\n",
    " \n",
    "- Increasing variance, that is the same as the `large_increasing` environment above.\n",
    "- Decreasing variance, that is the opposite direction of the `large_increasing` environment above."
   ]
  },
  {
   "cell_type": "code",
   "execution_count": 3,
   "metadata": {
    "pycharm": {
     "name": "#%%\n"
    }
   },
   "outputs": [],
   "source": [
    "from mouselab.envs.registry import register\n",
    "from mouselab.distributions import Normal\n",
    "from mouselab.envs.reward_settings import large_increasing_reward\n",
    "\n",
    "# create narrow_large_increasing\n",
    "register(\n",
    "    name=\"narrow_large_increasing\",\n",
    "    branching=[1,1,1,1,3],\n",
    "    reward_inputs=\"depth\",\n",
    "    reward_dictionary=large_increasing_reward,\n",
    ")\n",
    "\n",
    "large_decreasing_reward = {\n",
    "    level_idx + 1: Normal(0, level) for level_idx, level in enumerate([32, 8, 4, 2, 1])\n",
    "}\n",
    "\n",
    "\n",
    "# create narrow_large_decreasing\n",
    "register(\n",
    "    name=\"narrow_large_decreasing\",\n",
    "    branching=[1,1,1,1,3],\n",
    "    reward_inputs=\"depth\",\n",
    "    reward_dictionary=large_decreasing_reward,\n",
    ")"
   ]
  },
  {
   "cell_type": "markdown",
   "metadata": {
    "pycharm": {
     "name": "#%% md\n"
    }
   },
   "source": [
    "You can now check that your environments are on the registry:"
   ]
  },
  {
   "cell_type": "code",
   "execution_count": 4,
   "metadata": {
    "pycharm": {
     "name": "#%%\n"
    },
    "scrolled": true
   },
   "outputs": [
    {
     "name": "stdout",
     "output_type": "stream",
     "text": [
      "\n",
      "name:high_increasing\n",
      "branching: 3-1-2\n",
      "inputs: (d, e, p, t, h)\n",
      "\t1, Categorical(vals=[-4 -2  2  4], probs=[0.25 0.25 0.25 0.25])\n",
      "\t2, Categorical(vals=[-8 -4  4  8], probs=[0.25 0.25 0.25 0.25])\n",
      "\t3, Categorical(vals=[-48 -24  24  48], probs=[0.25 0.25 0.25 0.25])\n",
      "++++++++++++++++++++++++++++++++++\n",
      "name:high_decreasing\n",
      "branching: 3-1-2\n",
      "inputs: (d, e, p, t, h)\n",
      "\t1, Categorical(vals=[-48 -24  24  48], probs=[0.25 0.25 0.25 0.25])\n",
      "\t2, Categorical(vals=[-8 -4  4  8], probs=[0.25 0.25 0.25 0.25])\n",
      "\t3, Categorical(vals=[-4 -2  2  4], probs=[0.25 0.25 0.25 0.25])\n",
      "++++++++++++++++++++++++++++++++++\n",
      "name:low_constant\n",
      "branching: 3-1-2\n",
      "inputs: (d, e, p, t, h)\n",
      "\t1, Categorical(vals=[-10  -5   5  10], probs=[0.25 0.25 0.25 0.25])\n",
      "\t2, Categorical(vals=[-10  -5   5  10], probs=[0.25 0.25 0.25 0.25])\n",
      "\t3, Categorical(vals=[-10  -5   5  10], probs=[0.25 0.25 0.25 0.25])\n",
      "++++++++++++++++++++++++++++++++++\n",
      "name:large_increasing\n",
      "branching: 3-1-1-2-3\n",
      "inputs: (d, e, p, t, h)\n",
      "\t1, Norm(0.00, 1.00)\n",
      "\t2, Norm(0.00, 2.00)\n",
      "\t3, Norm(0.00, 4.00)\n",
      "\t4, Norm(0.00, 8.00)\n",
      "\t5, Norm(0.00, 32.00)\n",
      "++++++++++++++++++++++++++++++++++\n",
      "name:constant_high\n",
      "branching: 4-1-2\n",
      "inputs: (d, e, p, t, h)\n",
      "\t0, 0.0\n",
      "\t1, Categorical(vals=[-40. -24.  -8.   8.  24.  40.], probs=[0.05479929 0.15705611 0.2881446  0.2881446  0.15705611 0.05479929])\n",
      "\t2, Categorical(vals=[-40. -24.  -8.   8.  24.  40.], probs=[0.05479929 0.15705611 0.2881446  0.2881446  0.15705611 0.05479929])\n",
      "\t3, Categorical(vals=[-40. -24.  -8.   8.  24.  40.], probs=[0.05479929 0.15705611 0.2881446  0.2881446  0.15705611 0.05479929])\n",
      "++++++++++++++++++++++++++++++++++\n",
      "name:increasing\n",
      "branching: 4-1-2\n",
      "inputs: (d, e, p, t, h)\n",
      "\t0, 0.0\n",
      "\t1, Categorical(vals=[-4.  -2.4 -0.8  0.8  2.4  4. ], probs=[0.05479929 0.15705611 0.2881446  0.2881446  0.15705611 0.05479929])\n",
      "\t2, Categorical(vals=[-8.  -4.8 -1.6  1.6  4.8  8. ], probs=[0.05479929 0.15705611 0.2881446  0.2881446  0.15705611 0.05479929])\n",
      "\t3, Categorical(vals=[-40. -24.  -8.   8.  24.  40.], probs=[0.05479929 0.15705611 0.2881446  0.2881446  0.15705611 0.05479929])\n",
      "++++++++++++++++++++++++++++++++++\n",
      "name:decreasing\n",
      "branching: 4-1-2\n",
      "inputs: (d, e, p, t, h)\n",
      "\t0, 0.0\n",
      "\t1, Categorical(vals=[-40. -24.  -8.   8.  24.  40.], probs=[0.05479929 0.15705611 0.2881446  0.2881446  0.15705611 0.05479929])\n",
      "\t2, Categorical(vals=[-20. -12.  -4.   4.  12.  20.], probs=[0.05479929 0.15705611 0.2881446  0.2881446  0.15705611 0.05479929])\n",
      "\t3, Categorical(vals=[-10.  -6.  -2.   2.   6.  10.], probs=[0.05479929 0.15705611 0.2881446  0.2881446  0.15705611 0.05479929])\n",
      "++++++++++++++++++++++++++++++++++\n",
      "name:constant_low\n",
      "branching: 4-1-2\n",
      "inputs: (d, e, p, t, h)\n",
      "\t0, 0.0\n",
      "\t1, Categorical(vals=[-2.  -1.2 -0.4  0.4  1.2  2. ], probs=[0.05479929 0.15705611 0.2881446  0.2881446  0.15705611 0.05479929])\n",
      "\t2, Categorical(vals=[-2.  -1.2 -0.4  0.4  1.2  2. ], probs=[0.05479929 0.15705611 0.2881446  0.2881446  0.15705611 0.05479929])\n",
      "\t3, Categorical(vals=[-2.  -1.2 -0.4  0.4  1.2  2. ], probs=[0.05479929 0.15705611 0.2881446  0.2881446  0.15705611 0.05479929])\n",
      "++++++++++++++++++++++++++++++++++\n",
      "name:toy_imbalanced\n",
      "branching: 2-1\n",
      "inputs: (n, o, d, e)\n",
      "\t1, Categorical(vals=[-4 -2  2  4], probs=[0.25 0.25 0.25 0.25])\n",
      "\t3, Categorical(vals=[-8 -4  4  8], probs=[0.25 0.25 0.25 0.25])\n",
      "\t2, Categorical(vals=[-8 -4  4  8], probs=[0.25 0.25 0.25 0.25])\n",
      "\t4, Categorical(vals=[-48 -24  24  48], probs=[0.25 0.25 0.25 0.25])\n",
      "++++++++++++++++++++++++++++++++++\n",
      "name:small_test_case\n",
      "branching: 1-2\n",
      "inputs: (d, e, p, t, h)\n",
      "\t1, Categorical(vals=[-500], probs=[1.])\n",
      "\t2, Categorical(vals=[-60  60], probs=[0.5 0.5])\n",
      "++++++++++++++++++++++++++++++++++\n",
      "name:narrow_large_increasing\n",
      "branching: 1-1-1-1-3\n",
      "inputs: (d, e, p, t, h)\n",
      "\t1, Norm(0.00, 1.00)\n",
      "\t2, Norm(0.00, 2.00)\n",
      "\t3, Norm(0.00, 4.00)\n",
      "\t4, Norm(0.00, 8.00)\n",
      "\t5, Norm(0.00, 32.00)\n",
      "++++++++++++++++++++++++++++++++++\n",
      "name:narrow_large_decreasing\n",
      "branching: 1-1-1-1-3\n",
      "inputs: (d, e, p, t, h)\n",
      "\t1, Norm(0.00, 32.00)\n",
      "\t2, Norm(0.00, 8.00)\n",
      "\t3, Norm(0.00, 4.00)\n",
      "\t4, Norm(0.00, 2.00)\n",
      "\t5, Norm(0.00, 1.00)\n",
      "++++++++++++++++++++++++++++++++++\n"
     ]
    }
   ],
   "source": [
    "print(registry)"
   ]
  },
  {
   "cell_type": "markdown",
   "metadata": {
    "pycharm": {
     "name": "#%% md\n"
    }
   },
   "source": [
    "You can get one environment's details using:"
   ]
  },
  {
   "cell_type": "code",
   "execution_count": 5,
   "metadata": {
    "pycharm": {
     "name": "#%%\n"
    }
   },
   "outputs": [
    {
     "data": {
      "text/plain": [
       "([1, 1, 1, 1, 3],\n",
       " <bound method Env.reward_function of \n",
       " name:narrow_large_increasing\n",
       " branching: 1-1-1-1-3\n",
       " inputs: (d, e, p, t, h)\n",
       " \t1, Norm(0.00, 1.00)\n",
       " \t2, Norm(0.00, 2.00)\n",
       " \t3, Norm(0.00, 4.00)\n",
       " \t4, Norm(0.00, 8.00)\n",
       " \t5, Norm(0.00, 32.00)\n",
       " >)"
      ]
     },
     "execution_count": 5,
     "metadata": {},
     "output_type": "execute_result"
    }
   ],
   "source": [
    "registry(\"narrow_large_increasing\").branching, registry(\"narrow_large_increasing\").reward_function"
   ]
  },
  {
   "cell_type": "markdown",
   "metadata": {
    "pycharm": {
     "name": "#%% md\n"
    }
   },
   "source": [
    "Now let's instantiate two Mouselab MDP gym environments:"
   ]
  },
  {
   "cell_type": "code",
   "execution_count": 6,
   "metadata": {
    "pycharm": {
     "name": "#%%\n"
    }
   },
   "outputs": [],
   "source": [
    "from mouselab.mouselab import MouselabEnv\n",
    "from mouselab.distributions import Categorical\n",
    "\n",
    "\n",
    "env_increasing = MouselabEnv.new_symmetric_registered(\"narrow_large_increasing\",\n",
    "                                           cost=1)\n",
    "env_decreasing = MouselabEnv.new_symmetric_registered(\"narrow_large_decreasing\",\n",
    "                                           cost=1)"
   ]
  },
  {
   "cell_type": "markdown",
   "metadata": {
    "pycharm": {
     "name": "#%% md\n"
    }
   },
   "source": [
    "For future steps we will keep using `env_increasing`.\n",
    "\n",
    "Once finished you could print out the current state of the environment:"
   ]
  },
  {
   "cell_type": "code",
   "execution_count": 7,
   "metadata": {
    "pycharm": {
     "name": "#%%\n"
    }
   },
   "outputs": [
    {
     "name": "stdout",
     "output_type": "stream",
     "text": [
      "(0, Norm(0.00, 1.00), Norm(0.00, 2.00), Norm(0.00, 4.00), Norm(0.00, 8.00), Norm(0.00, 32.00), Norm(0.00, 32.00), Norm(0.00, 32.00))\n"
     ]
    }
   ],
   "source": [
    "print(env_increasing._state)\n",
    "# Output: ` (0, Norm(0.00, 1.00), Norm(0.00, 2.00), Norm(0.00, 4.00), Norm(0.00, 8.00), Norm(0.00, 32.00), Norm(0.00, 32.00), Norm(0.00, 32.00))`"
   ]
  },
  {
   "cell_type": "markdown",
   "metadata": {
    "pycharm": {
     "name": "#%% md\n"
    }
   },
   "source": [
    "Now say you see what happens when you reveal the 3rd node:"
   ]
  },
  {
   "cell_type": "code",
   "execution_count": 8,
   "metadata": {
    "pycharm": {
     "name": "#%%\n"
    }
   },
   "outputs": [
    {
     "name": "stdout",
     "output_type": "stream",
     "text": [
      "(0, Norm(0.00, 1.00), Norm(0.00, 2.00), -2.5450377391720616, Norm(0.00, 8.00), Norm(0.00, 32.00), Norm(0.00, 32.00), Norm(0.00, 32.00))\n"
     ]
    }
   ],
   "source": [
    "env_increasing._step(3)\n",
    "print(env_increasing._state)\n",
    "# Output: ` (0, Norm(0.00, 1.00), Norm(0.00, 2.00), <number>, Norm(0.00, 8.00), Norm(0.00, 32.00), Norm(0.00, 32.00), Norm(0.00, 32.00))`"
   ]
  },
  {
   "cell_type": "markdown",
   "metadata": {
    "pycharm": {
     "name": "#%% md\n"
    }
   },
   "source": [
    "## Exact Solution\n",
    "\n",
    "The code for the exact solution can be found in exact.py . There are some limitations on size and distributions (we only want to use categorical distributions, but there is a method to discretize implemented continuous distributions.) Since we are planning over belief states, you should only need to run it once for each reward configuration. The `timed_solve_env` function in `exact_utils.py` is probably good enough depending on what you want as output. \n",
    "\n",
    "If you want to try the solver out on the environment created above:\n",
    "\n",
    "_Note: For the 3-1-2 branching environment, this will probably take around 30 minutes to two hours depending on your machine. Therefore, we use a smaller environment in this example._"
   ]
  },
  {
   "cell_type": "markdown",
   "metadata": {
    "pycharm": {
     "name": "#%% md\n"
    }
   },
   "source": [
    "Now we want to investigate an environment with branching factor 1, 1, 3:\n",
    "```\n",
    "\n",
    "        depth  depth   depth    \n",
    "start     1      2       3           \n",
    "                          ()\n",
    "                         /\n",
    "                       /\n",
    "                     /\n",
    " () ---- () ---- ()  -----()\n",
    "                     \\\n",
    "                      \\\n",
    "                       \\\n",
    "                        ()\n",
    " ```\n",
    "\n",
    "And which shares the reward function of the `high_increasing` environment."
   ]
  },
  {
   "cell_type": "code",
   "execution_count": 9,
   "metadata": {
    "pycharm": {
     "name": "#%%\n"
    }
   },
   "outputs": [],
   "source": [
    "from mouselab.envs.reward_settings import high_increasing_reward\n",
    "\n",
    "register(\n",
    "    name=\"narrow_high_increasing\",\n",
    "    branching=[1,1,3],\n",
    "    reward_inputs=\"depth\",\n",
    "    reward_dictionary=high_increasing_reward,\n",
    ")"
   ]
  },
  {
   "cell_type": "code",
   "execution_count": 10,
   "metadata": {
    "pycharm": {
     "name": "#%%\n"
    }
   },
   "outputs": [
    {
     "name": "stdout",
     "output_type": "stream",
     "text": [
      "optimal -> 29.25 in 0.072 sec\n",
      "(65536, 6) states deduplicated, reduced to (3125, 6)\n"
     ]
    }
   ],
   "source": [
    "from mouselab.exact_utils import timed_solve_env\n",
    "\n",
    "\n",
    "env_increasing = MouselabEnv.new_symmetric_registered(\"narrow_high_increasing\", cost=1)\n",
    "\n",
    "env_increasing.reset()\n",
    "q, v, pi, info = timed_solve_env(env_increasing)"
   ]
  },
  {
   "cell_type": "markdown",
   "metadata": {
    "pycharm": {
     "name": "#%% md\n"
    }
   },
   "source": [
    "The first three outputs are functions (i.e. q(s,a), v(s) and pi(s).)"
   ]
  },
  {
   "cell_type": "markdown",
   "metadata": {
    "pycharm": {
     "name": "#%% md\n"
    }
   },
   "source": [
    "#### Saving a solution\n",
    "\n",
    "If you would like to save the Q files, you can save them as a dictionary with keys of (s,a) tuples. Set the `save_q` flag in the `solve` or `timed_solve_env` function to `True`. Please note that solving for the actual Q-values vs solving for the value of an environment can be more costly because we do not (currently) exploit the symmetry between states with a hash function."
   ]
  },
  {
   "cell_type": "code",
   "execution_count": 11,
   "metadata": {
    "pycharm": {
     "name": "#%%\n"
    }
   },
   "outputs": [
    {
     "name": "stdout",
     "output_type": "stream",
     "text": [
      "optimal -> 29.25 in 0.052 sec\n",
      "(65536, 6) states deduplicated, reduced to (3125, 6)\n"
     ]
    }
   ],
   "source": [
    "env_increasing.reset()\n",
    "q, v, pi, info = timed_solve_env(env_increasing, save_q = True)\n",
    "q_dictionary = info[\"q_dictionary\"]"
   ]
  },
  {
   "cell_type": "code",
   "execution_count": 12,
   "metadata": {
    "pycharm": {
     "name": "#%%\n"
    }
   },
   "outputs": [
    {
     "data": {
      "text/plain": [
       "6250"
      ]
     },
     "execution_count": 12,
     "metadata": {},
     "output_type": "execute_result"
    }
   ],
   "source": [
    "len(q_dictionary.keys())"
   ]
  },
  {
   "cell_type": "markdown",
   "metadata": {
    "pycharm": {
     "name": "#%% md\n"
    }
   },
   "source": [
    "## Simulating trajectories\n",
    "\n",
    "To construct trajectories, you need (1) a policy function (found in policies.py); (2) the inputs to that function (one of the functions from the last section); (3) an environment for the simulated agent to be acting on. For example, to simulate a trajectory with a softmax policy:"
   ]
  },
  {
   "cell_type": "code",
   "execution_count": 13,
   "metadata": {
    "pycharm": {
     "name": "#%%\n"
    }
   },
   "outputs": [],
   "source": [
    "from mouselab.policies import SoftmaxPolicy\n",
    "from mouselab.agents import Agent\n",
    "\n",
    "agent = Agent()\n",
    "\n",
    "pol = SoftmaxPolicy(q_dictionary)\n",
    "agent.register(pol)\n",
    "\n",
    "agent.register(env_increasing)\n",
    "\n",
    "trace = agent.run_episode()"
   ]
  },
  {
   "cell_type": "code",
   "execution_count": 14,
   "metadata": {
    "pycharm": {
     "name": "#%%\n"
    }
   },
   "outputs": [
    {
     "data": {
      "text/plain": [
       "{'i_episode': 0,\n",
       " 'states': [(0, Cat, Cat, Cat, Cat, Cat),\n",
       "  (0, Cat, Cat, Cat, Cat, -24),\n",
       "  (0, Cat, Cat, -24, Cat, -24),\n",
       "  (0, Cat, Cat, -24, -48, -24),\n",
       "  '__term_state__'],\n",
       " 'actions': [5, 3, 4, 6],\n",
       " 'rewards': [-1, -1, -1, -24.0],\n",
       " 'finished': True,\n",
       " 'return': -27.0}"
      ]
     },
     "execution_count": 14,
     "metadata": {},
     "output_type": "execute_result"
    }
   ],
   "source": [
    "trace"
   ]
  },
  {
   "cell_type": "markdown",
   "metadata": {
    "pycharm": {
     "name": "#%% md\n"
    }
   },
   "source": [
    "The output will be a dictionary containing information from the simulated episode, including states, actions and rewards. (Check out agents.py for more information and a function for running many episodes.)"
   ]
  },
  {
   "cell_type": "markdown",
   "metadata": {},
   "source": [
    "# Rendering environment"
   ]
  },
  {
   "cell_type": "code",
   "execution_count": 15,
   "metadata": {},
   "outputs": [
    {
     "data": {
      "image/svg+xml": [
       "<?xml version=\"1.0\" encoding=\"UTF-8\" standalone=\"no\"?>\n",
       "<!DOCTYPE svg PUBLIC \"-//W3C//DTD SVG 1.1//EN\"\n",
       " \"http://www.w3.org/Graphics/SVG/1.1/DTD/svg11.dtd\">\n",
       "<!-- Generated by graphviz version 2.43.0 (0)\n",
       " -->\n",
       "<!-- Title: %3 Pages: 1 -->\n",
       "<svg width=\"206pt\" height=\"404pt\"\n",
       " viewBox=\"0.00 0.00 206.00 404.00\" xmlns=\"http://www.w3.org/2000/svg\" xmlns:xlink=\"http://www.w3.org/1999/xlink\">\n",
       "<g id=\"graph0\" class=\"graph\" transform=\"scale(1 1) rotate(0) translate(4 400)\">\n",
       "<title>%3</title>\n",
       "<polygon fill=\"white\" stroke=\"transparent\" points=\"-4,4 -4,-400 202,-400 202,4 -4,4\"/>\n",
       "<!-- 0 -->\n",
       "<g id=\"node1\" class=\"node\">\n",
       "<title>0</title>\n",
       "<ellipse fill=\"#f7bdc4\" stroke=\"#f7bdc4\" cx=\"99\" cy=\"-378\" rx=\"27\" ry=\"18\"/>\n",
       "<text text-anchor=\"middle\" x=\"99\" y=\"-374.3\" font-family=\"Times,serif\" font-size=\"14.00\">0</text>\n",
       "</g>\n",
       "<!-- 1 -->\n",
       "<g id=\"node2\" class=\"node\">\n",
       "<title>1</title>\n",
       "<ellipse fill=\"#f7bdc4\" stroke=\"#f7bdc4\" cx=\"99\" cy=\"-306\" rx=\"33.6\" ry=\"18\"/>\n",
       "<text text-anchor=\"middle\" x=\"99\" y=\"-302.3\" font-family=\"Times,serif\" font-size=\"14.00\">&#45;19.93</text>\n",
       "</g>\n",
       "<!-- 0&#45;&gt;1 -->\n",
       "<g id=\"edge1\" class=\"edge\">\n",
       "<title>0&#45;&gt;1</title>\n",
       "<path fill=\"none\" stroke=\"black\" d=\"M99,-359.7C99,-351.98 99,-342.71 99,-334.11\"/>\n",
       "<polygon fill=\"black\" stroke=\"black\" points=\"102.5,-334.1 99,-324.1 95.5,-334.1 102.5,-334.1\"/>\n",
       "</g>\n",
       "<!-- 2 -->\n",
       "<g id=\"node3\" class=\"node\">\n",
       "<title>2</title>\n",
       "<ellipse fill=\"grey\" stroke=\"grey\" cx=\"99\" cy=\"-234\" rx=\"27\" ry=\"18\"/>\n",
       "<text text-anchor=\"middle\" x=\"99\" y=\"-230.3\" font-family=\"Times,serif\" font-size=\"14.00\">2</text>\n",
       "</g>\n",
       "<!-- 1&#45;&gt;2 -->\n",
       "<g id=\"edge2\" class=\"edge\">\n",
       "<title>1&#45;&gt;2</title>\n",
       "<path fill=\"none\" stroke=\"black\" d=\"M99,-287.7C99,-279.98 99,-270.71 99,-262.11\"/>\n",
       "<polygon fill=\"black\" stroke=\"black\" points=\"102.5,-262.1 99,-252.1 95.5,-262.1 102.5,-262.1\"/>\n",
       "</g>\n",
       "<!-- 3 -->\n",
       "<g id=\"node4\" class=\"node\">\n",
       "<title>3</title>\n",
       "<ellipse fill=\"#8ebf87\" stroke=\"#8ebf87\" cx=\"99\" cy=\"-162\" rx=\"27\" ry=\"18\"/>\n",
       "<text text-anchor=\"middle\" x=\"99\" y=\"-158.3\" font-family=\"Times,serif\" font-size=\"14.00\">1.4</text>\n",
       "</g>\n",
       "<!-- 2&#45;&gt;3 -->\n",
       "<g id=\"edge3\" class=\"edge\">\n",
       "<title>2&#45;&gt;3</title>\n",
       "<path fill=\"none\" stroke=\"black\" d=\"M99,-215.7C99,-207.98 99,-198.71 99,-190.11\"/>\n",
       "<polygon fill=\"black\" stroke=\"black\" points=\"102.5,-190.1 99,-180.1 95.5,-190.1 102.5,-190.1\"/>\n",
       "</g>\n",
       "<!-- 4 -->\n",
       "<g id=\"node5\" class=\"node\">\n",
       "<title>4</title>\n",
       "<ellipse fill=\"grey\" stroke=\"grey\" cx=\"99\" cy=\"-90\" rx=\"27\" ry=\"18\"/>\n",
       "<text text-anchor=\"middle\" x=\"99\" y=\"-86.3\" font-family=\"Times,serif\" font-size=\"14.00\">4</text>\n",
       "</g>\n",
       "<!-- 3&#45;&gt;4 -->\n",
       "<g id=\"edge4\" class=\"edge\">\n",
       "<title>3&#45;&gt;4</title>\n",
       "<path fill=\"none\" stroke=\"black\" d=\"M99,-143.7C99,-135.98 99,-126.71 99,-118.11\"/>\n",
       "<polygon fill=\"black\" stroke=\"black\" points=\"102.5,-118.1 99,-108.1 95.5,-118.1 102.5,-118.1\"/>\n",
       "</g>\n",
       "<!-- 5 -->\n",
       "<g id=\"node6\" class=\"node\">\n",
       "<title>5</title>\n",
       "<ellipse fill=\"grey\" stroke=\"grey\" cx=\"27\" cy=\"-18\" rx=\"27\" ry=\"18\"/>\n",
       "<text text-anchor=\"middle\" x=\"27\" y=\"-14.3\" font-family=\"Times,serif\" font-size=\"14.00\">5</text>\n",
       "</g>\n",
       "<!-- 4&#45;&gt;5 -->\n",
       "<g id=\"edge5\" class=\"edge\">\n",
       "<title>4&#45;&gt;5</title>\n",
       "<path fill=\"none\" stroke=\"black\" d=\"M84.43,-74.83C74.25,-64.94 60.48,-51.55 48.97,-40.36\"/>\n",
       "<polygon fill=\"black\" stroke=\"black\" points=\"51.41,-37.85 41.8,-33.38 46.53,-42.87 51.41,-37.85\"/>\n",
       "</g>\n",
       "<!-- 6 -->\n",
       "<g id=\"node7\" class=\"node\">\n",
       "<title>6</title>\n",
       "<ellipse fill=\"#8ebf87\" stroke=\"#8ebf87\" cx=\"99\" cy=\"-18\" rx=\"27\" ry=\"18\"/>\n",
       "<text text-anchor=\"middle\" x=\"99\" y=\"-14.3\" font-family=\"Times,serif\" font-size=\"14.00\">0.23</text>\n",
       "</g>\n",
       "<!-- 4&#45;&gt;6 -->\n",
       "<g id=\"edge6\" class=\"edge\">\n",
       "<title>4&#45;&gt;6</title>\n",
       "<path fill=\"none\" stroke=\"black\" d=\"M99,-71.7C99,-63.98 99,-54.71 99,-46.11\"/>\n",
       "<polygon fill=\"black\" stroke=\"black\" points=\"102.5,-46.1 99,-36.1 95.5,-46.1 102.5,-46.1\"/>\n",
       "</g>\n",
       "<!-- 7 -->\n",
       "<g id=\"node8\" class=\"node\">\n",
       "<title>7</title>\n",
       "<ellipse fill=\"#8ebf87\" stroke=\"#8ebf87\" cx=\"171\" cy=\"-18\" rx=\"27\" ry=\"18\"/>\n",
       "<text text-anchor=\"middle\" x=\"171\" y=\"-14.3\" font-family=\"Times,serif\" font-size=\"14.00\">0.42</text>\n",
       "</g>\n",
       "<!-- 4&#45;&gt;7 -->\n",
       "<g id=\"edge7\" class=\"edge\">\n",
       "<title>4&#45;&gt;7</title>\n",
       "<path fill=\"none\" stroke=\"black\" d=\"M113.57,-74.83C123.75,-64.94 137.52,-51.55 149.03,-40.36\"/>\n",
       "<polygon fill=\"black\" stroke=\"black\" points=\"151.47,-42.87 156.2,-33.38 146.59,-37.85 151.47,-42.87\"/>\n",
       "</g>\n",
       "</g>\n",
       "</svg>\n"
      ],
      "text/plain": [
       "<graphviz.dot.Digraph at 0x7fd21c4ab1c0>"
      ]
     },
     "execution_count": 15,
     "metadata": {},
     "output_type": "execute_result"
    }
   ],
   "source": [
    "env_decreasing.reset()\n",
    "for action in [1,3,7,6]:\n",
    "    env_decreasing.step(action)\n",
    "env_decreasing._render()"
   ]
  },
  {
   "cell_type": "code",
   "execution_count": 16,
   "metadata": {
    "tags": []
   },
   "outputs": [],
   "source": [
    "import networkx as nx\n",
    "from mouselab.graph_utils import get_structure_properties\n",
    "\n"
   ]
  },
  {
   "cell_type": "code",
   "execution_count": 17,
   "metadata": {},
   "outputs": [],
   "source": [
    "structure = {\n",
    "            \"layout\": {\n",
    "                \"0\": [0, 0],\n",
    "                \"1\": [0, -1],\n",
    "                \"2\": [0, -2],\n",
    "                \"3\": [1, -2],\n",
    "                \"4\": [-1, -2],\n",
    "                \"5\": [1, 0],\n",
    "                \"6\": [2, 0],\n",
    "                \"7\": [2, -1],\n",
    "                \"8\": [2, 1],\n",
    "                \"9\": [-1, 0],\n",
    "                \"10\": [-2, 0],\n",
    "                \"11\": [-2, -1],\n",
    "                \"12\": [-2, 1],\n",
    "            },\n",
    "            \"initial\": \"0\",\n",
    "            \"graph\": {\n",
    "                \"0\": {\"up\": [0, \"1\"], \"right\": [0, \"5\"], \"left\": [0, \"9\"]},\n",
    "                \"1\": {\"up\": [0, \"2\"]},\n",
    "                \"2\": {\"right\": [0, \"3\"], \"left\": [0, \"4\"]},\n",
    "                \"3\": {},\n",
    "                \"4\": {},\n",
    "                \"5\": {\"right\": [0, \"6\"]},\n",
    "                \"6\": {\"up\": [0, \"7\"], \"down\": [0, \"8\"]},\n",
    "                \"7\": {},\n",
    "                \"8\": {},\n",
    "                \"9\": {\"left\": [0, \"10\"]},\n",
    "                \"10\": {\"up\": [0, \"11\"], \"down\": [0, \"12\"]},\n",
    "                \"11\": {},\n",
    "                \"12\": {},\n",
    "            },\n",
    "        }\n",
    "\n",
    "mdp_graph_properties = get_structure_properties(structure)"
   ]
  },
  {
   "cell_type": "code",
   "execution_count": 18,
   "metadata": {},
   "outputs": [],
   "source": [
    "env = MouselabEnv.new_symmetric_registered(\"high_increasing\", mdp_graph_properties=mdp_graph_properties)"
   ]
  },
  {
   "cell_type": "code",
   "execution_count": 19,
   "metadata": {},
   "outputs": [
    {
     "data": {
      "image/png": "[encoded data removed]",
      "text/plain": [
       "<Figure size 432x288 with 1 Axes>"
      ]
     },
     "metadata": {},
     "output_type": "display_data"
    }
   ],
   "source": [
    "env.reset()\n",
    "for action in [1,3,7,6]:\n",
    "    env.step(action)\n",
    "env._render(use_networkx=True)"
   ]
  }
 ],
 "metadata": {
  "kernelspec": {
   "display_name": "Python 3",
   "language": "python",
   "name": "python3"
  },
  "language_info": {
   "codemirror_mode": {
    "name": "ipython",
    "version": 3
   },
   "file_extension": ".py",
   "mimetype": "text/x-python",
   "name": "python",
   "nbconvert_exporter": "python",
   "pygments_lexer": "ipython3",
   "version": "3.8.10"
  }
 },
 "nbformat": 4,
 "nbformat_minor": 4
}
